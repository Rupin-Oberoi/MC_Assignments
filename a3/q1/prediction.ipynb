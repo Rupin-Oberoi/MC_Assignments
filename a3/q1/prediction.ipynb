{
 "cells": [
  {
   "cell_type": "code",
   "execution_count": 20,
   "metadata": {},
   "outputs": [],
   "source": [
    "import pandas as pd\n",
    "from sklearn.linear_model import LinearRegression\n",
    "import numpy as np\n",
    "import matplotlib.pyplot as plt"
   ]
  },
  {
   "cell_type": "code",
   "execution_count": 21,
   "metadata": {},
   "outputs": [],
   "source": [
    "df = pd.read_csv('accelerometer_data_freq.csv')"
   ]
  },
  {
   "cell_type": "code",
   "execution_count": 35,
   "metadata": {},
   "outputs": [],
   "source": [
    "df_40 = df[df['freq'] == 40]\n",
    "\n",
    "train_data = df_40.iloc[:-400]\n",
    "test_data = df_40.iloc[-400:]"
   ]
  },
  {
   "cell_type": "code",
   "execution_count": 38,
   "metadata": {},
   "outputs": [
    {
     "name": "stdout",
     "output_type": "stream",
     "text": [
      "Error for x: 6.201911341522427\n",
      "Error for y: 3.5622771394011226\n",
      "Error for z: 7.886533301661674\n"
     ]
    }
   ],
   "source": [
    "X_train = np.array(train_data[['timestamp']])\n",
    "y_train = np.array(train_data[['x', 'y', 'z']])\n",
    "\n",
    "y_train_x = np.array(train_data[['x']])\n",
    "y_train_y = np.array(train_data[['y']])\n",
    "y_train_z = np.array(train_data[['z']])\n",
    "\n",
    "X_test = np.array(test_data[['timestamp']])\n",
    "y_test = np.array(test_data[['x', 'y', 'z']])\n",
    "\n",
    "y_test_x = np.array(test_data[['x']])\n",
    "y_test_y = np.array(test_data[['y']])\n",
    "y_test_z = np.array(test_data[['z']])\n",
    "\n",
    "model = LinearRegression()\n",
    "model.fit(X_train, y_train_x)\n",
    "y_pred_x = model.predict(X_test)\n",
    "error_mae = np.mean(np.abs(y_pred_x - y_test_x))\n",
    "print('Error for x:', error_mae)\n",
    "plt.plot(X_test, y_test_x, label='True')\n",
    "plt.plot(X_test, y_pred_x, label='Predicted')\n",
    "plt.legend()\n",
    "plt.savefig('x.png')\n",
    "plt.close()\n",
    "\n",
    "model = LinearRegression()\n",
    "model.fit(X_train, y_train_y)\n",
    "y_pred_y = model.predict(X_test)\n",
    "error_mae = np.mean(np.abs(y_pred_y - y_test_y))\n",
    "print('Error for y:', error_mae)\n",
    "plt.plot(X_test, y_test_y, label='True')\n",
    "plt.plot(X_test, y_pred_y, label='Predicted')\n",
    "plt.legend()\n",
    "plt.savefig('y.png')\n",
    "plt.close()\n",
    "\n",
    "\n",
    "model = LinearRegression()\n",
    "model.fit(X_train, y_train_z)\n",
    "y_pred_z = model.predict(X_test)\n",
    "error_mae = np.mean(np.abs(y_pred_z - y_test_z))\n",
    "print('Error for z:', error_mae)\n",
    "plt.plot(X_test, y_test_z, label='True')\n",
    "plt.plot(X_test, y_pred_z, label='Predicted')\n",
    "plt.legend()\n",
    "plt.savefig('z.png')\n",
    "plt.close()\n",
    "\n"
   ]
  }
 ],
 "metadata": {
  "kernelspec": {
   "display_name": ".venv",
   "language": "python",
   "name": "python3"
  },
  "language_info": {
   "codemirror_mode": {
    "name": "ipython",
    "version": 3
   },
   "file_extension": ".py",
   "mimetype": "text/x-python",
   "name": "python",
   "nbconvert_exporter": "python",
   "pygments_lexer": "ipython3",
   "version": "3.7.9"
  }
 },
 "nbformat": 4,
 "nbformat_minor": 2
}
